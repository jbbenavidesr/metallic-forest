{
 "cells": [
  {
   "cell_type": "markdown",
   "source": [
    "# Metallic Forest\n",
    "\n",
    "This notebook contains the analysis of the data for the problem nd some thoughts that\n",
    "may come to my mind while working on it. The simulation is done using C++ code in\n",
    "the folder `../simulation/` and it outputs the data we need and here we work with it."
   ],
   "metadata": {}
  },
  {
   "cell_type": "code",
   "execution_count": 1,
   "source": [
    "import numpy as np\n",
    "import matplotlib.pyplot as plt\n",
    "import pandas as pd\n",
    "\n"
   ],
   "outputs": [],
   "metadata": {}
  },
  {
   "cell_type": "markdown",
   "source": [
    "## Diffusion\n",
    "\n",
    "The first part of the problem is to handle diffusion. We're using the Langevin force of the form\n",
    "\n",
    "$$ F = -\\lambda v + \\eta $$\n",
    "\n",
    "where $\\lambda$ is a friction coefficient and $\\eta$ is a random force that has a gaussian distribution\n",
    "with mean 0.\n",
    "\n",
    "For testing if the code up to this point works, let's test that the evolution of the \n",
    "standard deviation follows the following:\n",
    "\n",
    "$$ \\sigma^2 = \\sigma_0^2 + 2 D d t $$\n"
   ],
   "metadata": {}
  },
  {
   "cell_type": "code",
   "execution_count": 2,
   "source": [
    "\n",
    "data = pd.read_csv('../data/difusion.csv')"
   ],
   "outputs": [],
   "metadata": {}
  },
  {
   "cell_type": "code",
   "execution_count": 3,
   "source": [
    "info = data.groupby(['t']).std()\n",
    "\n",
    "info.head()"
   ],
   "outputs": [
    {
     "output_type": "execute_result",
     "data": {
      "text/plain": [
       "             x         y    z       v_x       v_y  v_z    u\n",
       "t                                                          \n",
       "0.00  0.000000  0.000000  0.0  0.005000  0.004866  0.0  0.0\n",
       "0.01  0.000058  0.000055  0.0  0.005000  0.004866  0.0  0.0\n",
       "0.02  0.000142  0.000149  0.0  0.010961  0.012006  0.0  0.0\n",
       "0.03  0.000265  0.000296  0.0  0.014797  0.016380  0.0  0.0\n",
       "0.04  0.000422  0.000461  0.0  0.018097  0.019841  0.0  0.0"
      ],
      "text/html": [
       "<div>\n",
       "<style scoped>\n",
       "    .dataframe tbody tr th:only-of-type {\n",
       "        vertical-align: middle;\n",
       "    }\n",
       "\n",
       "    .dataframe tbody tr th {\n",
       "        vertical-align: top;\n",
       "    }\n",
       "\n",
       "    .dataframe thead th {\n",
       "        text-align: right;\n",
       "    }\n",
       "</style>\n",
       "<table border=\"1\" class=\"dataframe\">\n",
       "  <thead>\n",
       "    <tr style=\"text-align: right;\">\n",
       "      <th></th>\n",
       "      <th>x</th>\n",
       "      <th>y</th>\n",
       "      <th>z</th>\n",
       "      <th>v_x</th>\n",
       "      <th>v_y</th>\n",
       "      <th>v_z</th>\n",
       "      <th>u</th>\n",
       "    </tr>\n",
       "    <tr>\n",
       "      <th>t</th>\n",
       "      <th></th>\n",
       "      <th></th>\n",
       "      <th></th>\n",
       "      <th></th>\n",
       "      <th></th>\n",
       "      <th></th>\n",
       "      <th></th>\n",
       "    </tr>\n",
       "  </thead>\n",
       "  <tbody>\n",
       "    <tr>\n",
       "      <th>0.00</th>\n",
       "      <td>0.000000</td>\n",
       "      <td>0.000000</td>\n",
       "      <td>0.0</td>\n",
       "      <td>0.005000</td>\n",
       "      <td>0.004866</td>\n",
       "      <td>0.0</td>\n",
       "      <td>0.0</td>\n",
       "    </tr>\n",
       "    <tr>\n",
       "      <th>0.01</th>\n",
       "      <td>0.000058</td>\n",
       "      <td>0.000055</td>\n",
       "      <td>0.0</td>\n",
       "      <td>0.005000</td>\n",
       "      <td>0.004866</td>\n",
       "      <td>0.0</td>\n",
       "      <td>0.0</td>\n",
       "    </tr>\n",
       "    <tr>\n",
       "      <th>0.02</th>\n",
       "      <td>0.000142</td>\n",
       "      <td>0.000149</td>\n",
       "      <td>0.0</td>\n",
       "      <td>0.010961</td>\n",
       "      <td>0.012006</td>\n",
       "      <td>0.0</td>\n",
       "      <td>0.0</td>\n",
       "    </tr>\n",
       "    <tr>\n",
       "      <th>0.03</th>\n",
       "      <td>0.000265</td>\n",
       "      <td>0.000296</td>\n",
       "      <td>0.0</td>\n",
       "      <td>0.014797</td>\n",
       "      <td>0.016380</td>\n",
       "      <td>0.0</td>\n",
       "      <td>0.0</td>\n",
       "    </tr>\n",
       "    <tr>\n",
       "      <th>0.04</th>\n",
       "      <td>0.000422</td>\n",
       "      <td>0.000461</td>\n",
       "      <td>0.0</td>\n",
       "      <td>0.018097</td>\n",
       "      <td>0.019841</td>\n",
       "      <td>0.0</td>\n",
       "      <td>0.0</td>\n",
       "    </tr>\n",
       "  </tbody>\n",
       "</table>\n",
       "</div>"
      ]
     },
     "metadata": {},
     "execution_count": 3
    }
   ],
   "metadata": {}
  },
  {
   "cell_type": "code",
   "execution_count": 4,
   "source": [
    "info['sx2'] = info.x **2\n",
    "info['sy2'] = info.y **2\n",
    "info.head()"
   ],
   "outputs": [
    {
     "output_type": "execute_result",
     "data": {
      "text/plain": [
       "             x         y    z       v_x       v_y  v_z    u           sx2  \\\n",
       "t                                                                           \n",
       "0.00  0.000000  0.000000  0.0  0.005000  0.004866  0.0  0.0  0.000000e+00   \n",
       "0.01  0.000058  0.000055  0.0  0.005000  0.004866  0.0  0.0  3.308020e-09   \n",
       "0.02  0.000142  0.000149  0.0  0.010961  0.012006  0.0  0.0  2.003001e-08   \n",
       "0.03  0.000265  0.000296  0.0  0.014797  0.016380  0.0  0.0  6.998239e-08   \n",
       "0.04  0.000422  0.000461  0.0  0.018097  0.019841  0.0  0.0  1.777067e-07   \n",
       "\n",
       "               sy2  \n",
       "t                   \n",
       "0.00  0.000000e+00  \n",
       "0.01  3.027506e-09  \n",
       "0.02  2.217738e-08  \n",
       "0.03  8.736617e-08  \n",
       "0.04  2.129734e-07  "
      ],
      "text/html": [
       "<div>\n",
       "<style scoped>\n",
       "    .dataframe tbody tr th:only-of-type {\n",
       "        vertical-align: middle;\n",
       "    }\n",
       "\n",
       "    .dataframe tbody tr th {\n",
       "        vertical-align: top;\n",
       "    }\n",
       "\n",
       "    .dataframe thead th {\n",
       "        text-align: right;\n",
       "    }\n",
       "</style>\n",
       "<table border=\"1\" class=\"dataframe\">\n",
       "  <thead>\n",
       "    <tr style=\"text-align: right;\">\n",
       "      <th></th>\n",
       "      <th>x</th>\n",
       "      <th>y</th>\n",
       "      <th>z</th>\n",
       "      <th>v_x</th>\n",
       "      <th>v_y</th>\n",
       "      <th>v_z</th>\n",
       "      <th>u</th>\n",
       "      <th>sx2</th>\n",
       "      <th>sy2</th>\n",
       "    </tr>\n",
       "    <tr>\n",
       "      <th>t</th>\n",
       "      <th></th>\n",
       "      <th></th>\n",
       "      <th></th>\n",
       "      <th></th>\n",
       "      <th></th>\n",
       "      <th></th>\n",
       "      <th></th>\n",
       "      <th></th>\n",
       "      <th></th>\n",
       "    </tr>\n",
       "  </thead>\n",
       "  <tbody>\n",
       "    <tr>\n",
       "      <th>0.00</th>\n",
       "      <td>0.000000</td>\n",
       "      <td>0.000000</td>\n",
       "      <td>0.0</td>\n",
       "      <td>0.005000</td>\n",
       "      <td>0.004866</td>\n",
       "      <td>0.0</td>\n",
       "      <td>0.0</td>\n",
       "      <td>0.000000e+00</td>\n",
       "      <td>0.000000e+00</td>\n",
       "    </tr>\n",
       "    <tr>\n",
       "      <th>0.01</th>\n",
       "      <td>0.000058</td>\n",
       "      <td>0.000055</td>\n",
       "      <td>0.0</td>\n",
       "      <td>0.005000</td>\n",
       "      <td>0.004866</td>\n",
       "      <td>0.0</td>\n",
       "      <td>0.0</td>\n",
       "      <td>3.308020e-09</td>\n",
       "      <td>3.027506e-09</td>\n",
       "    </tr>\n",
       "    <tr>\n",
       "      <th>0.02</th>\n",
       "      <td>0.000142</td>\n",
       "      <td>0.000149</td>\n",
       "      <td>0.0</td>\n",
       "      <td>0.010961</td>\n",
       "      <td>0.012006</td>\n",
       "      <td>0.0</td>\n",
       "      <td>0.0</td>\n",
       "      <td>2.003001e-08</td>\n",
       "      <td>2.217738e-08</td>\n",
       "    </tr>\n",
       "    <tr>\n",
       "      <th>0.03</th>\n",
       "      <td>0.000265</td>\n",
       "      <td>0.000296</td>\n",
       "      <td>0.0</td>\n",
       "      <td>0.014797</td>\n",
       "      <td>0.016380</td>\n",
       "      <td>0.0</td>\n",
       "      <td>0.0</td>\n",
       "      <td>6.998239e-08</td>\n",
       "      <td>8.736617e-08</td>\n",
       "    </tr>\n",
       "    <tr>\n",
       "      <th>0.04</th>\n",
       "      <td>0.000422</td>\n",
       "      <td>0.000461</td>\n",
       "      <td>0.0</td>\n",
       "      <td>0.018097</td>\n",
       "      <td>0.019841</td>\n",
       "      <td>0.0</td>\n",
       "      <td>0.0</td>\n",
       "      <td>1.777067e-07</td>\n",
       "      <td>2.129734e-07</td>\n",
       "    </tr>\n",
       "  </tbody>\n",
       "</table>\n",
       "</div>"
      ]
     },
     "metadata": {},
     "execution_count": 4
    }
   ],
   "metadata": {}
  },
  {
   "cell_type": "code",
   "execution_count": 7,
   "source": [
    "\n",
    "info.plot(y=['sx2', 'sy2'])\n",
    "\n",
    "plt.ylabel(r\"$\\sigma^2$\")\n",
    "plt.title(\"Evolution of the variance in time\")"
   ],
   "outputs": [
    {
     "output_type": "execute_result",
     "data": {
      "text/plain": [
       "Text(0.5, 1.0, 'Evolution of the variance in time')"
      ]
     },
     "metadata": {},
     "execution_count": 7
    },
    {
     "output_type": "display_data",
     "data": {
      "text/plain": [
       "<Figure size 432x288 with 1 Axes>"
      ],
      "image/png": "[encoded data removed]"
     },
     "metadata": {
      "needs_background": "light"
     }
    }
   ],
   "metadata": {}
  },
  {
   "cell_type": "markdown",
   "source": [
    "The first thing we can see in this graph is that the evolution is actually linear! Now let's find out a little more"
   ],
   "metadata": {}
  },
  {
   "cell_type": "code",
   "execution_count": 21,
   "source": [
    "fit_x = np.polynomial.polynomial.Polynomial.fit(info.index, info['sx2'], deg=1).convert().coef\n",
    "fit_y = np.polynomial.polynomial.Polynomial.fit(info.index, info['sy2'], deg=1).convert().coef\n"
   ],
   "outputs": [],
   "metadata": {}
  },
  {
   "cell_type": "code",
   "execution_count": 22,
   "source": [
    "plt.plot(info.index, fit_x[0] + fit_x[1] * info.index)\n",
    "plt.plot(info.index, info['sx2'])"
   ],
   "outputs": [
    {
     "output_type": "execute_result",
     "data": {
      "text/plain": [
       "[<matplotlib.lines.Line2D at 0x12a571ee0>]"
      ]
     },
     "metadata": {},
     "execution_count": 22
    },
    {
     "output_type": "display_data",
     "data": {
      "text/plain": [
       "<Figure size 432x288 with 1 Axes>"
      ],
      "image/png": "[encoded data removed]"
     },
     "metadata": {
      "needs_background": "light"
     }
    }
   ],
   "metadata": {}
  }
 ],
 "metadata": {
  "orig_nbformat": 4,
  "language_info": {
   "name": "python",
   "version": "3.9.5",
   "mimetype": "text/x-python",
   "codemirror_mode": {
    "name": "ipython",
    "version": 3
   },
   "pygments_lexer": "ipython3",
   "nbconvert_exporter": "python",
   "file_extension": ".py"
  },
  "kernelspec": {
   "name": "python3",
   "display_name": "Python 3.9.5 64-bit ('math': conda)"
  },
  "interpreter": {
   "hash": "6ab96d0cfc59ca63b114c3ad3e3d2412f5055902f8e47c20437caca4391b0784"
  }
 },
 "nbformat": 4,
 "nbformat_minor": 2
}